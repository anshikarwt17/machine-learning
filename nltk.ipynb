{
  "nbformat": 4,
  "nbformat_minor": 0,
  "metadata": {
    "colab": {
      "provenance": []
    },
    "kernelspec": {
      "name": "python3",
      "display_name": "Python 3"
    },
    "language_info": {
      "name": "python"
    }
  },
  "cells": [
    {
      "cell_type": "markdown",
      "source": [
        "pip install nltk\n"
      ],
      "metadata": {
        "id": "tZ18DQgmSmzF"
      }
    },
    {
      "cell_type": "code",
      "source": [
        "import nltk\n",
        "from nltk import sent_tokenize\n",
        "from nltk import word_tokenize\n",
        "from nltk.corpus import stopwords\n",
        "from nltk.stem import WordNetLemmatizer\n",
        "from nltk.stem import PorterStemmer\n",
        "nltk.download('punkt')\n",
        "nltk.download('stopwords')\n",
        "nltk.download('wordnet')\n"
      ],
      "metadata": {
        "colab": {
          "base_uri": "https://localhost:8080/"
        },
        "id": "a-lOjBHPS3ca",
        "outputId": "2dce60b3-a23e-4cb1-bb20-1ae96f2facd5"
      },
      "execution_count": null,
      "outputs": [
        {
          "output_type": "stream",
          "name": "stderr",
          "text": [
            "[nltk_data] Downloading package punkt to /root/nltk_data...\n",
            "[nltk_data]   Unzipping tokenizers/punkt.zip.\n",
            "[nltk_data] Downloading package stopwords to /root/nltk_data...\n",
            "[nltk_data]   Unzipping corpora/stopwords.zip.\n",
            "[nltk_data] Downloading package wordnet to /root/nltk_data...\n"
          ]
        },
        {
          "output_type": "execute_result",
          "data": {
            "text/plain": [
              "True"
            ]
          },
          "metadata": {},
          "execution_count": 6
        }
      ]
    },
    {
      "cell_type": "code",
      "source": [
        "text=\"Hello everyone! Welcome to my blog post where we define NLTK is a reading platform for building python program\"\n",
        "\n",
        "tokens=word_tokenize(text)\n",
        "print(\"Token:\",tokens)"
      ],
      "metadata": {
        "colab": {
          "base_uri": "https://localhost:8080/"
        },
        "id": "UtRfrR6qSz-8",
        "outputId": "ab05a15e-4f39-43c1-d63b-6916f4d4f697"
      },
      "execution_count": null,
      "outputs": [
        {
          "output_type": "stream",
          "name": "stdout",
          "text": [
            "Token: ['Hello', 'everyone', '!', 'Welcome', 'to', 'my', 'blog', 'post', 'where', 'we', 'define', 'NLTK', 'is', 'a', 'reading', 'platform', 'for', 'building', 'python', 'program']\n"
          ]
        }
      ]
    },
    {
      "cell_type": "code",
      "source": [
        "Stemmer=PorterStemmer()\n",
        "Stemmed_tokens=[Stemmer.stem(token)for token in tokens]\n",
        "print(\"stemmed_token:\",Stemmed_tokens)"
      ],
      "metadata": {
        "colab": {
          "base_uri": "https://localhost:8080/"
        },
        "id": "Qud4jHx4T2MR",
        "outputId": "5bbda7c1-91ac-4979-9667-7ee8876fea01"
      },
      "execution_count": null,
      "outputs": [
        {
          "output_type": "stream",
          "name": "stdout",
          "text": [
            "stemmed_token: ['hello', 'everyon', '!', 'welcom', 'to', 'my', 'blog', 'post', 'where', 'we', 'defin', 'nltk', 'is', 'a', 'read', 'platform', 'for', 'build', 'python', 'program']\n"
          ]
        }
      ]
    },
    {
      "cell_type": "code",
      "source": [
        "lemm= WordNetLemmatizer()\n",
        "lemm_tokens=[lemm.lemmatize(token)for token in tokens]\n",
        "print(\"lemm_tokens:\",lemm_tokens)"
      ],
      "metadata": {
        "colab": {
          "base_uri": "https://localhost:8080/"
        },
        "id": "qrWcUMXrUq7N",
        "outputId": "790e3969-848d-41b3-bb74-7500e3956238"
      },
      "execution_count": null,
      "outputs": [
        {
          "output_type": "stream",
          "name": "stdout",
          "text": [
            "lemm_tokens: ['Hello', 'everyone', '!', 'Welcome', 'to', 'my', 'blog', 'post', 'where', 'we', 'define', 'NLTK', 'is', 'a', 'reading', 'platform', 'for', 'building', 'python', 'program']\n"
          ]
        }
      ]
    },
    {
      "cell_type": "code",
      "source": [
        "stop_words=set(stopwords.words(\"english\"))\n",
        "filt_tokens=[token for token in tokens if token.lower() not in stop_words]\n",
        "print(\"filtered_tokens:\",filt_tokens)"
      ],
      "metadata": {
        "colab": {
          "base_uri": "https://localhost:8080/"
        },
        "id": "vAZ17NEmWJaa",
        "outputId": "e500560d-860e-43bb-b9c9-7ba82d3a79ab"
      },
      "execution_count": null,
      "outputs": [
        {
          "output_type": "stream",
          "name": "stdout",
          "text": [
            "filtered_tokens: ['Hello', 'everyone', '!', 'Welcome', 'blog', 'post', 'define', 'NLTK', 'reading', 'platform', 'building', 'python', 'program']\n"
          ]
        }
      ]
    }
  ]
}